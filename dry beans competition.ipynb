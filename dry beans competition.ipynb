{
 "cells": [
  {
   "cell_type": "markdown",
   "id": "70c74bbd",
   "metadata": {},
   "source": [
    "## Step 1 : loading and understanding data"
   ]
  },
  {
   "cell_type": "code",
   "execution_count": 56,
   "id": "3b3e05d5",
   "metadata": {},
   "outputs": [],
   "source": [
    "import numpy as np\n",
    "import pandas as pd\n",
    "import scipy as sc\n",
    "import matplotlib.pyplot as plt\n",
    "import seaborn as sns\n",
    "%matplotlib inline"
   ]
  },
  {
   "cell_type": "code",
   "execution_count": 57,
   "id": "8799ae1f",
   "metadata": {},
   "outputs": [
    {
     "data": {
      "text/html": [
       "<div>\n",
       "<style scoped>\n",
       "    .dataframe tbody tr th:only-of-type {\n",
       "        vertical-align: middle;\n",
       "    }\n",
       "\n",
       "    .dataframe tbody tr th {\n",
       "        vertical-align: top;\n",
       "    }\n",
       "\n",
       "    .dataframe thead th {\n",
       "        text-align: right;\n",
       "    }\n",
       "</style>\n",
       "<table border=\"1\" class=\"dataframe\">\n",
       "  <thead>\n",
       "    <tr style=\"text-align: right;\">\n",
       "      <th></th>\n",
       "      <th>ID</th>\n",
       "      <th>Area</th>\n",
       "      <th>Perimeter</th>\n",
       "      <th>MajorAxisLength</th>\n",
       "      <th>MinorAxisLength</th>\n",
       "      <th>AspectRation</th>\n",
       "      <th>Eccentricity</th>\n",
       "      <th>ConvexArea</th>\n",
       "      <th>EquivDiameter</th>\n",
       "      <th>Extent</th>\n",
       "      <th>Solidity</th>\n",
       "      <th>roundness</th>\n",
       "      <th>Compactness</th>\n",
       "      <th>ShapeFactor1</th>\n",
       "      <th>ShapeFactor2</th>\n",
       "      <th>ShapeFactor3</th>\n",
       "      <th>ShapeFactor4</th>\n",
       "      <th>y</th>\n",
       "    </tr>\n",
       "  </thead>\n",
       "  <tbody>\n",
       "    <tr>\n",
       "      <th>0</th>\n",
       "      <td>0</td>\n",
       "      <td>58238</td>\n",
       "      <td>971.303</td>\n",
       "      <td>397.202654</td>\n",
       "      <td>186.945510</td>\n",
       "      <td>2.124697</td>\n",
       "      <td>0.882317</td>\n",
       "      <td>58977</td>\n",
       "      <td>272.306674</td>\n",
       "      <td>0.604756</td>\n",
       "      <td>0.987470</td>\n",
       "      <td>0.775723</td>\n",
       "      <td>0.685561</td>\n",
       "      <td>0.006820</td>\n",
       "      <td>0.000929</td>\n",
       "      <td>0.469994</td>\n",
       "      <td>0.998595</td>\n",
       "      <td>HOROZ</td>\n",
       "    </tr>\n",
       "    <tr>\n",
       "      <th>1</th>\n",
       "      <td>1</td>\n",
       "      <td>44515</td>\n",
       "      <td>757.601</td>\n",
       "      <td>265.590470</td>\n",
       "      <td>213.967453</td>\n",
       "      <td>1.241266</td>\n",
       "      <td>0.592420</td>\n",
       "      <td>44780</td>\n",
       "      <td>238.071960</td>\n",
       "      <td>0.771745</td>\n",
       "      <td>0.994082</td>\n",
       "      <td>0.974620</td>\n",
       "      <td>0.896387</td>\n",
       "      <td>0.005966</td>\n",
       "      <td>0.002376</td>\n",
       "      <td>0.803510</td>\n",
       "      <td>0.997370</td>\n",
       "      <td>SEKER</td>\n",
       "    </tr>\n",
       "    <tr>\n",
       "      <th>2</th>\n",
       "      <td>2</td>\n",
       "      <td>31662</td>\n",
       "      <td>653.783</td>\n",
       "      <td>239.902428</td>\n",
       "      <td>168.421505</td>\n",
       "      <td>1.424417</td>\n",
       "      <td>0.712136</td>\n",
       "      <td>32034</td>\n",
       "      <td>200.781748</td>\n",
       "      <td>0.801407</td>\n",
       "      <td>0.988387</td>\n",
       "      <td>0.930853</td>\n",
       "      <td>0.836931</td>\n",
       "      <td>0.007577</td>\n",
       "      <td>0.002293</td>\n",
       "      <td>0.700453</td>\n",
       "      <td>0.997737</td>\n",
       "      <td>DERMASON</td>\n",
       "    </tr>\n",
       "    <tr>\n",
       "      <th>3</th>\n",
       "      <td>3</td>\n",
       "      <td>38778</td>\n",
       "      <td>734.020</td>\n",
       "      <td>268.446281</td>\n",
       "      <td>184.061923</td>\n",
       "      <td>1.458456</td>\n",
       "      <td>0.727925</td>\n",
       "      <td>39208</td>\n",
       "      <td>222.201897</td>\n",
       "      <td>0.766137</td>\n",
       "      <td>0.989033</td>\n",
       "      <td>0.904439</td>\n",
       "      <td>0.827733</td>\n",
       "      <td>0.006923</td>\n",
       "      <td>0.002005</td>\n",
       "      <td>0.685142</td>\n",
       "      <td>0.999250</td>\n",
       "      <td>DERMASON</td>\n",
       "    </tr>\n",
       "    <tr>\n",
       "      <th>4</th>\n",
       "      <td>4</td>\n",
       "      <td>42530</td>\n",
       "      <td>775.403</td>\n",
       "      <td>281.212824</td>\n",
       "      <td>193.236878</td>\n",
       "      <td>1.455275</td>\n",
       "      <td>0.726511</td>\n",
       "      <td>43028</td>\n",
       "      <td>232.703412</td>\n",
       "      <td>0.729816</td>\n",
       "      <td>0.988426</td>\n",
       "      <td>0.888895</td>\n",
       "      <td>0.827499</td>\n",
       "      <td>0.006612</td>\n",
       "      <td>0.001912</td>\n",
       "      <td>0.684755</td>\n",
       "      <td>0.996507</td>\n",
       "      <td>SIRA</td>\n",
       "    </tr>\n",
       "  </tbody>\n",
       "</table>\n",
       "</div>"
      ],
      "text/plain": [
       "   ID   Area  Perimeter  MajorAxisLength  MinorAxisLength  AspectRation  \\\n",
       "0   0  58238    971.303       397.202654       186.945510      2.124697   \n",
       "1   1  44515    757.601       265.590470       213.967453      1.241266   \n",
       "2   2  31662    653.783       239.902428       168.421505      1.424417   \n",
       "3   3  38778    734.020       268.446281       184.061923      1.458456   \n",
       "4   4  42530    775.403       281.212824       193.236878      1.455275   \n",
       "\n",
       "   Eccentricity  ConvexArea  EquivDiameter    Extent  Solidity  roundness  \\\n",
       "0      0.882317       58977     272.306674  0.604756  0.987470   0.775723   \n",
       "1      0.592420       44780     238.071960  0.771745  0.994082   0.974620   \n",
       "2      0.712136       32034     200.781748  0.801407  0.988387   0.930853   \n",
       "3      0.727925       39208     222.201897  0.766137  0.989033   0.904439   \n",
       "4      0.726511       43028     232.703412  0.729816  0.988426   0.888895   \n",
       "\n",
       "   Compactness  ShapeFactor1  ShapeFactor2  ShapeFactor3  ShapeFactor4  \\\n",
       "0     0.685561      0.006820      0.000929      0.469994      0.998595   \n",
       "1     0.896387      0.005966      0.002376      0.803510      0.997370   \n",
       "2     0.836931      0.007577      0.002293      0.700453      0.997737   \n",
       "3     0.827733      0.006923      0.002005      0.685142      0.999250   \n",
       "4     0.827499      0.006612      0.001912      0.684755      0.996507   \n",
       "\n",
       "          y  \n",
       "0     HOROZ  \n",
       "1     SEKER  \n",
       "2  DERMASON  \n",
       "3  DERMASON  \n",
       "4      SIRA  "
      ]
     },
     "execution_count": 57,
     "metadata": {},
     "output_type": "execute_result"
    }
   ],
   "source": [
    "train = pd.read_csv('train.csv')\n",
    "test =pd.read_csv('test.csv')\n",
    "train.head()"
   ]
  },
  {
   "cell_type": "code",
   "execution_count": 58,
   "id": "9970b97c",
   "metadata": {},
   "outputs": [
    {
     "name": "stdout",
     "output_type": "stream",
     "text": [
      "<class 'pandas.core.frame.DataFrame'>\n",
      "RangeIndex: 10834 entries, 0 to 10833\n",
      "Data columns (total 18 columns):\n",
      " #   Column           Non-Null Count  Dtype  \n",
      "---  ------           --------------  -----  \n",
      " 0   ID               10834 non-null  int64  \n",
      " 1   Area             10834 non-null  int64  \n",
      " 2   Perimeter        10834 non-null  float64\n",
      " 3   MajorAxisLength  10834 non-null  float64\n",
      " 4   MinorAxisLength  10834 non-null  float64\n",
      " 5   AspectRation     10834 non-null  float64\n",
      " 6   Eccentricity     10834 non-null  float64\n",
      " 7   ConvexArea       10834 non-null  int64  \n",
      " 8   EquivDiameter    10834 non-null  float64\n",
      " 9   Extent           10834 non-null  float64\n",
      " 10  Solidity         10834 non-null  float64\n",
      " 11  roundness        10834 non-null  float64\n",
      " 12  Compactness      10834 non-null  float64\n",
      " 13  ShapeFactor1     10834 non-null  float64\n",
      " 14  ShapeFactor2     10834 non-null  float64\n",
      " 15  ShapeFactor3     10834 non-null  float64\n",
      " 16  ShapeFactor4     10834 non-null  float64\n",
      " 17  y                10834 non-null  object \n",
      "dtypes: float64(14), int64(3), object(1)\n",
      "memory usage: 1.5+ MB\n"
     ]
    }
   ],
   "source": [
    "#checking for null values\n",
    "train.info()"
   ]
  },
  {
   "cell_type": "code",
   "execution_count": 59,
   "id": "40c961ec",
   "metadata": {},
   "outputs": [
    {
     "name": "stdout",
     "output_type": "stream",
     "text": [
      "<class 'pandas.core.frame.DataFrame'>\n",
      "RangeIndex: 2709 entries, 0 to 2708\n",
      "Data columns (total 17 columns):\n",
      " #   Column           Non-Null Count  Dtype  \n",
      "---  ------           --------------  -----  \n",
      " 0   ID               2709 non-null   int64  \n",
      " 1   Area             2709 non-null   int64  \n",
      " 2   Perimeter        2709 non-null   float64\n",
      " 3   MajorAxisLength  2709 non-null   float64\n",
      " 4   MinorAxisLength  2709 non-null   float64\n",
      " 5   AspectRation     2709 non-null   float64\n",
      " 6   Eccentricity     2709 non-null   float64\n",
      " 7   ConvexArea       2709 non-null   int64  \n",
      " 8   EquivDiameter    2709 non-null   float64\n",
      " 9   Extent           2709 non-null   float64\n",
      " 10  Solidity         2709 non-null   float64\n",
      " 11  roundness        2709 non-null   float64\n",
      " 12  Compactness      2709 non-null   float64\n",
      " 13  ShapeFactor1     2709 non-null   float64\n",
      " 14  ShapeFactor2     2709 non-null   float64\n",
      " 15  ShapeFactor3     2709 non-null   float64\n",
      " 16  ShapeFactor4     2709 non-null   float64\n",
      "dtypes: float64(14), int64(3)\n",
      "memory usage: 359.9 KB\n"
     ]
    }
   ],
   "source": [
    "test.info()"
   ]
  },
  {
   "cell_type": "markdown",
   "id": "56c57f7d",
   "metadata": {},
   "source": [
    "## step 2 preprocessing"
   ]
  },
  {
   "cell_type": "code",
   "execution_count": 60,
   "id": "6aeda613",
   "metadata": {},
   "outputs": [
    {
     "data": {
      "text/html": [
       "<div>\n",
       "<style scoped>\n",
       "    .dataframe tbody tr th:only-of-type {\n",
       "        vertical-align: middle;\n",
       "    }\n",
       "\n",
       "    .dataframe tbody tr th {\n",
       "        vertical-align: top;\n",
       "    }\n",
       "\n",
       "    .dataframe thead th {\n",
       "        text-align: right;\n",
       "    }\n",
       "</style>\n",
       "<table border=\"1\" class=\"dataframe\">\n",
       "  <thead>\n",
       "    <tr style=\"text-align: right;\">\n",
       "      <th></th>\n",
       "      <th>Area</th>\n",
       "      <th>Perimeter</th>\n",
       "      <th>MajorAxisLength</th>\n",
       "      <th>MinorAxisLength</th>\n",
       "      <th>AspectRation</th>\n",
       "      <th>Eccentricity</th>\n",
       "      <th>ConvexArea</th>\n",
       "      <th>EquivDiameter</th>\n",
       "      <th>Extent</th>\n",
       "      <th>Solidity</th>\n",
       "      <th>roundness</th>\n",
       "      <th>Compactness</th>\n",
       "      <th>ShapeFactor1</th>\n",
       "      <th>ShapeFactor2</th>\n",
       "      <th>ShapeFactor3</th>\n",
       "      <th>ShapeFactor4</th>\n",
       "    </tr>\n",
       "  </thead>\n",
       "  <tbody>\n",
       "    <tr>\n",
       "      <th>0</th>\n",
       "      <td>58238</td>\n",
       "      <td>971.303</td>\n",
       "      <td>397.202654</td>\n",
       "      <td>186.94551</td>\n",
       "      <td>2.124697</td>\n",
       "      <td>0.882317</td>\n",
       "      <td>58977</td>\n",
       "      <td>272.306674</td>\n",
       "      <td>0.604756</td>\n",
       "      <td>0.98747</td>\n",
       "      <td>0.775723</td>\n",
       "      <td>0.685561</td>\n",
       "      <td>0.00682</td>\n",
       "      <td>0.000929</td>\n",
       "      <td>0.469994</td>\n",
       "      <td>0.998595</td>\n",
       "    </tr>\n",
       "  </tbody>\n",
       "</table>\n",
       "</div>"
      ],
      "text/plain": [
       "    Area  Perimeter  MajorAxisLength  MinorAxisLength  AspectRation  \\\n",
       "0  58238    971.303       397.202654        186.94551      2.124697   \n",
       "\n",
       "   Eccentricity  ConvexArea  EquivDiameter    Extent  Solidity  roundness  \\\n",
       "0      0.882317       58977     272.306674  0.604756   0.98747   0.775723   \n",
       "\n",
       "   Compactness  ShapeFactor1  ShapeFactor2  ShapeFactor3  ShapeFactor4  \n",
       "0     0.685561       0.00682      0.000929      0.469994      0.998595  "
      ]
     },
     "execution_count": 60,
     "metadata": {},
     "output_type": "execute_result"
    }
   ],
   "source": [
    "#seperating data into label\n",
    "train_features= train.drop(['y','ID'],axis=1)\n",
    "train_features.head(1)"
   ]
  },
  {
   "cell_type": "code",
   "execution_count": 61,
   "id": "77e85a0d",
   "metadata": {},
   "outputs": [
    {
     "data": {
      "text/html": [
       "<div>\n",
       "<style scoped>\n",
       "    .dataframe tbody tr th:only-of-type {\n",
       "        vertical-align: middle;\n",
       "    }\n",
       "\n",
       "    .dataframe tbody tr th {\n",
       "        vertical-align: top;\n",
       "    }\n",
       "\n",
       "    .dataframe thead th {\n",
       "        text-align: right;\n",
       "    }\n",
       "</style>\n",
       "<table border=\"1\" class=\"dataframe\">\n",
       "  <thead>\n",
       "    <tr style=\"text-align: right;\">\n",
       "      <th></th>\n",
       "      <th>Area</th>\n",
       "      <th>Perimeter</th>\n",
       "      <th>MajorAxisLength</th>\n",
       "      <th>MinorAxisLength</th>\n",
       "      <th>AspectRation</th>\n",
       "      <th>Eccentricity</th>\n",
       "      <th>ConvexArea</th>\n",
       "      <th>EquivDiameter</th>\n",
       "      <th>Extent</th>\n",
       "      <th>Solidity</th>\n",
       "      <th>roundness</th>\n",
       "      <th>Compactness</th>\n",
       "      <th>ShapeFactor1</th>\n",
       "      <th>ShapeFactor2</th>\n",
       "      <th>ShapeFactor3</th>\n",
       "      <th>ShapeFactor4</th>\n",
       "    </tr>\n",
       "  </thead>\n",
       "  <tbody>\n",
       "    <tr>\n",
       "      <th>0</th>\n",
       "      <td>57659</td>\n",
       "      <td>955.434</td>\n",
       "      <td>387.757607</td>\n",
       "      <td>196.625782</td>\n",
       "      <td>1.972059</td>\n",
       "      <td>0.861896</td>\n",
       "      <td>60188</td>\n",
       "      <td>270.949661</td>\n",
       "      <td>0.620790</td>\n",
       "      <td>0.957982</td>\n",
       "      <td>0.793735</td>\n",
       "      <td>0.698760</td>\n",
       "      <td>0.006725</td>\n",
       "      <td>0.000989</td>\n",
       "      <td>0.488266</td>\n",
       "      <td>0.962889</td>\n",
       "    </tr>\n",
       "    <tr>\n",
       "      <th>1</th>\n",
       "      <td>28772</td>\n",
       "      <td>630.362</td>\n",
       "      <td>229.990785</td>\n",
       "      <td>159.609367</td>\n",
       "      <td>1.440960</td>\n",
       "      <td>0.719993</td>\n",
       "      <td>29127</td>\n",
       "      <td>191.399185</td>\n",
       "      <td>0.767458</td>\n",
       "      <td>0.987812</td>\n",
       "      <td>0.909913</td>\n",
       "      <td>0.832204</td>\n",
       "      <td>0.007994</td>\n",
       "      <td>0.002365</td>\n",
       "      <td>0.692563</td>\n",
       "      <td>0.997956</td>\n",
       "    </tr>\n",
       "    <tr>\n",
       "      <th>2</th>\n",
       "      <td>54677</td>\n",
       "      <td>911.022</td>\n",
       "      <td>308.853903</td>\n",
       "      <td>226.398571</td>\n",
       "      <td>1.364204</td>\n",
       "      <td>0.680198</td>\n",
       "      <td>55858</td>\n",
       "      <td>263.850182</td>\n",
       "      <td>0.753013</td>\n",
       "      <td>0.978857</td>\n",
       "      <td>0.827860</td>\n",
       "      <td>0.854288</td>\n",
       "      <td>0.005649</td>\n",
       "      <td>0.001856</td>\n",
       "      <td>0.729808</td>\n",
       "      <td>0.995607</td>\n",
       "    </tr>\n",
       "    <tr>\n",
       "      <th>3</th>\n",
       "      <td>24827</td>\n",
       "      <td>578.304</td>\n",
       "      <td>214.192699</td>\n",
       "      <td>147.788172</td>\n",
       "      <td>1.449322</td>\n",
       "      <td>0.723831</td>\n",
       "      <td>25121</td>\n",
       "      <td>177.794033</td>\n",
       "      <td>0.716508</td>\n",
       "      <td>0.988297</td>\n",
       "      <td>0.932871</td>\n",
       "      <td>0.830066</td>\n",
       "      <td>0.008627</td>\n",
       "      <td>0.002526</td>\n",
       "      <td>0.689009</td>\n",
       "      <td>0.998596</td>\n",
       "    </tr>\n",
       "    <tr>\n",
       "      <th>4</th>\n",
       "      <td>141850</td>\n",
       "      <td>1432.847</td>\n",
       "      <td>524.923471</td>\n",
       "      <td>346.910920</td>\n",
       "      <td>1.513136</td>\n",
       "      <td>0.750492</td>\n",
       "      <td>143680</td>\n",
       "      <td>424.981211</td>\n",
       "      <td>0.804617</td>\n",
       "      <td>0.987263</td>\n",
       "      <td>0.868240</td>\n",
       "      <td>0.809606</td>\n",
       "      <td>0.003701</td>\n",
       "      <td>0.000981</td>\n",
       "      <td>0.655462</td>\n",
       "      <td>0.991803</td>\n",
       "    </tr>\n",
       "    <tr>\n",
       "      <th>...</th>\n",
       "      <td>...</td>\n",
       "      <td>...</td>\n",
       "      <td>...</td>\n",
       "      <td>...</td>\n",
       "      <td>...</td>\n",
       "      <td>...</td>\n",
       "      <td>...</td>\n",
       "      <td>...</td>\n",
       "      <td>...</td>\n",
       "      <td>...</td>\n",
       "      <td>...</td>\n",
       "      <td>...</td>\n",
       "      <td>...</td>\n",
       "      <td>...</td>\n",
       "      <td>...</td>\n",
       "      <td>...</td>\n",
       "    </tr>\n",
       "    <tr>\n",
       "      <th>2704</th>\n",
       "      <td>66833</td>\n",
       "      <td>1018.336</td>\n",
       "      <td>400.397077</td>\n",
       "      <td>214.346215</td>\n",
       "      <td>1.867992</td>\n",
       "      <td>0.844640</td>\n",
       "      <td>67787</td>\n",
       "      <td>291.709476</td>\n",
       "      <td>0.759604</td>\n",
       "      <td>0.985927</td>\n",
       "      <td>0.809876</td>\n",
       "      <td>0.728550</td>\n",
       "      <td>0.005991</td>\n",
       "      <td>0.001041</td>\n",
       "      <td>0.530786</td>\n",
       "      <td>0.991504</td>\n",
       "    </tr>\n",
       "    <tr>\n",
       "      <th>2705</th>\n",
       "      <td>40572</td>\n",
       "      <td>725.331</td>\n",
       "      <td>250.714014</td>\n",
       "      <td>206.471935</td>\n",
       "      <td>1.214276</td>\n",
       "      <td>0.567264</td>\n",
       "      <td>40900</td>\n",
       "      <td>227.283688</td>\n",
       "      <td>0.767479</td>\n",
       "      <td>0.991980</td>\n",
       "      <td>0.969089</td>\n",
       "      <td>0.906546</td>\n",
       "      <td>0.006179</td>\n",
       "      <td>0.002574</td>\n",
       "      <td>0.821825</td>\n",
       "      <td>0.997923</td>\n",
       "    </tr>\n",
       "    <tr>\n",
       "      <th>2706</th>\n",
       "      <td>61226</td>\n",
       "      <td>1008.378</td>\n",
       "      <td>408.227467</td>\n",
       "      <td>199.385082</td>\n",
       "      <td>2.047432</td>\n",
       "      <td>0.872611</td>\n",
       "      <td>63901</td>\n",
       "      <td>279.204879</td>\n",
       "      <td>0.611648</td>\n",
       "      <td>0.958138</td>\n",
       "      <td>0.756657</td>\n",
       "      <td>0.683944</td>\n",
       "      <td>0.006668</td>\n",
       "      <td>0.000900</td>\n",
       "      <td>0.467780</td>\n",
       "      <td>0.957748</td>\n",
       "    </tr>\n",
       "    <tr>\n",
       "      <th>2707</th>\n",
       "      <td>34238</td>\n",
       "      <td>698.847</td>\n",
       "      <td>255.829224</td>\n",
       "      <td>170.867099</td>\n",
       "      <td>1.497241</td>\n",
       "      <td>0.744255</td>\n",
       "      <td>34724</td>\n",
       "      <td>208.789788</td>\n",
       "      <td>0.724890</td>\n",
       "      <td>0.986004</td>\n",
       "      <td>0.880956</td>\n",
       "      <td>0.816130</td>\n",
       "      <td>0.007472</td>\n",
       "      <td>0.002045</td>\n",
       "      <td>0.666067</td>\n",
       "      <td>0.997263</td>\n",
       "    </tr>\n",
       "    <tr>\n",
       "      <th>2708</th>\n",
       "      <td>49175</td>\n",
       "      <td>828.597</td>\n",
       "      <td>310.354804</td>\n",
       "      <td>202.329323</td>\n",
       "      <td>1.533909</td>\n",
       "      <td>0.758280</td>\n",
       "      <td>49668</td>\n",
       "      <td>250.223010</td>\n",
       "      <td>0.798166</td>\n",
       "      <td>0.990074</td>\n",
       "      <td>0.900052</td>\n",
       "      <td>0.806248</td>\n",
       "      <td>0.006311</td>\n",
       "      <td>0.001645</td>\n",
       "      <td>0.650036</td>\n",
       "      <td>0.997096</td>\n",
       "    </tr>\n",
       "  </tbody>\n",
       "</table>\n",
       "<p>2709 rows × 16 columns</p>\n",
       "</div>"
      ],
      "text/plain": [
       "        Area  Perimeter  MajorAxisLength  MinorAxisLength  AspectRation  \\\n",
       "0      57659    955.434       387.757607       196.625782      1.972059   \n",
       "1      28772    630.362       229.990785       159.609367      1.440960   \n",
       "2      54677    911.022       308.853903       226.398571      1.364204   \n",
       "3      24827    578.304       214.192699       147.788172      1.449322   \n",
       "4     141850   1432.847       524.923471       346.910920      1.513136   \n",
       "...      ...        ...              ...              ...           ...   \n",
       "2704   66833   1018.336       400.397077       214.346215      1.867992   \n",
       "2705   40572    725.331       250.714014       206.471935      1.214276   \n",
       "2706   61226   1008.378       408.227467       199.385082      2.047432   \n",
       "2707   34238    698.847       255.829224       170.867099      1.497241   \n",
       "2708   49175    828.597       310.354804       202.329323      1.533909   \n",
       "\n",
       "      Eccentricity  ConvexArea  EquivDiameter    Extent  Solidity  roundness  \\\n",
       "0         0.861896       60188     270.949661  0.620790  0.957982   0.793735   \n",
       "1         0.719993       29127     191.399185  0.767458  0.987812   0.909913   \n",
       "2         0.680198       55858     263.850182  0.753013  0.978857   0.827860   \n",
       "3         0.723831       25121     177.794033  0.716508  0.988297   0.932871   \n",
       "4         0.750492      143680     424.981211  0.804617  0.987263   0.868240   \n",
       "...            ...         ...            ...       ...       ...        ...   \n",
       "2704      0.844640       67787     291.709476  0.759604  0.985927   0.809876   \n",
       "2705      0.567264       40900     227.283688  0.767479  0.991980   0.969089   \n",
       "2706      0.872611       63901     279.204879  0.611648  0.958138   0.756657   \n",
       "2707      0.744255       34724     208.789788  0.724890  0.986004   0.880956   \n",
       "2708      0.758280       49668     250.223010  0.798166  0.990074   0.900052   \n",
       "\n",
       "      Compactness  ShapeFactor1  ShapeFactor2  ShapeFactor3  ShapeFactor4  \n",
       "0        0.698760      0.006725      0.000989      0.488266      0.962889  \n",
       "1        0.832204      0.007994      0.002365      0.692563      0.997956  \n",
       "2        0.854288      0.005649      0.001856      0.729808      0.995607  \n",
       "3        0.830066      0.008627      0.002526      0.689009      0.998596  \n",
       "4        0.809606      0.003701      0.000981      0.655462      0.991803  \n",
       "...           ...           ...           ...           ...           ...  \n",
       "2704     0.728550      0.005991      0.001041      0.530786      0.991504  \n",
       "2705     0.906546      0.006179      0.002574      0.821825      0.997923  \n",
       "2706     0.683944      0.006668      0.000900      0.467780      0.957748  \n",
       "2707     0.816130      0.007472      0.002045      0.666067      0.997263  \n",
       "2708     0.806248      0.006311      0.001645      0.650036      0.997096  \n",
       "\n",
       "[2709 rows x 16 columns]"
      ]
     },
     "execution_count": 61,
     "metadata": {},
     "output_type": "execute_result"
    }
   ],
   "source": [
    "test_features= test.drop('ID',axis=1)\n",
    "test_features"
   ]
  },
  {
   "cell_type": "code",
   "execution_count": 62,
   "id": "f6188167",
   "metadata": {},
   "outputs": [
    {
     "name": "stdout",
     "output_type": "stream",
     "text": [
      "0     4\n",
      "1     5\n",
      "2     3\n",
      "3     3\n",
      "4     6\n",
      "5     5\n",
      "6     4\n",
      "7     6\n",
      "8     5\n",
      "9     6\n",
      "10    0\n",
      "11    2\n",
      "12    6\n",
      "13    6\n",
      "14    3\n",
      "15    4\n",
      "16    5\n",
      "17    5\n",
      "18    1\n",
      "19    3\n",
      "Name: y, dtype: int32\n"
     ]
    }
   ],
   "source": [
    "#encoding catagorical label\n",
    "from sklearn import preprocessing\n",
    "label_encoder = preprocessing.LabelEncoder()\n",
    "train['y']= label_encoder.fit_transform(train['y'])\n",
    "train_label= train['y']\n",
    "print(train_label.head(20))"
   ]
  },
  {
   "cell_type": "code",
   "execution_count": 63,
   "id": "f6154827",
   "metadata": {},
   "outputs": [
    {
     "data": {
      "image/png": "[encoded data removed]",
      "text/plain": [
       "<Figure size 1440x1440 with 16 Axes>"
      ]
     },
     "metadata": {
      "needs_background": "light"
     },
     "output_type": "display_data"
    }
   ],
   "source": [
    "\n",
    "fig, axs = plt.subplots(ncols = 4, nrows = 4, figsize = (20, 20))\n",
    "index = 0\n",
    "\n",
    "axs = axs.flatten()\n",
    "\n",
    "# loop for moving on the colums returned in k and values returned in v then histogram them ,to fill the list Axs with histograms\n",
    "for k, v in train_features.items():\n",
    "    sns.histplot(v, ax = axs[index])\n",
    "    index += 1\n",
    "plt.tight_layout(pad = 0.4, w_pad = 0.5, h_pad = 5.0)\n"
   ]
  },
  {
   "cell_type": "markdown",
   "id": "3de975b5",
   "metadata": {},
   "source": [
    "from the graph we notice that features are highly skiewed"
   ]
  },
  {
   "cell_type": "code",
   "execution_count": 64,
   "id": "81da6afb",
   "metadata": {},
   "outputs": [
    {
     "data": {
      "text/plain": [
       "Area               2.970246\n",
       "ConvexArea         2.960315\n",
       "MinorAxisLength    2.251468\n",
       "EquivDiameter      1.971378\n",
       "Perimeter          1.650773\n",
       "MajorAxisLength    1.390286\n",
       "AspectRation       0.589186\n",
       "ShapeFactor2       0.292677\n",
       "ShapeFactor3       0.245589\n",
       "Compactness        0.038242\n",
       "ShapeFactor1      -0.544873\n",
       "roundness         -0.659566\n",
       "Extent            -0.900892\n",
       "Eccentricity      -1.075626\n",
       "Solidity          -2.507634\n",
       "ShapeFactor4      -2.628540\n",
       "dtype: float64"
      ]
     },
     "execution_count": 64,
     "metadata": {},
     "output_type": "execute_result"
    }
   ],
   "source": [
    "train_features.skew().sort_values(ascending=False)"
   ]
  },
  {
   "cell_type": "code",
   "execution_count": 65,
   "id": "f794b597",
   "metadata": {},
   "outputs": [],
   "source": [
    "train_features_logtransform = train_features[['MajorAxisLength', 'MinorAxisLength',\n",
    "                                  'Eccentricity', 'ConvexArea', 'EquivDiameter',\n",
    "                                  \"Solidity\",\"ShapeFactor4\", 'Area','Perimeter']].apply(lambda x: np.log(x))"
   ]
  },
  {
   "cell_type": "code",
   "execution_count": 66,
   "id": "47533790",
   "metadata": {
    "scrolled": true
   },
   "outputs": [],
   "source": [
    "from sklearn.preprocessing import MinMaxScaler\n",
    "\n",
    "x = train_features_logtransform.values #returns a numpy array\n",
    "min_max_scaler = preprocessing.MinMaxScaler()\n",
    "x_scaled = min_max_scaler.fit_transform(x)\n",
    "train_features_logtransformm = pd.DataFrame(x_scaled)\n"
   ]
  },
  {
   "cell_type": "code",
   "execution_count": 67,
   "id": "7c9b739d",
   "metadata": {},
   "outputs": [
    {
     "data": {
      "image/png": "[encoded data removed]",
      "text/plain": [
       "<Figure size 1440x1440 with 9 Axes>"
      ]
     },
     "metadata": {
      "needs_background": "light"
     },
     "output_type": "display_data"
    }
   ],
   "source": [
    "fig, axs = plt.subplots(ncols = 3, nrows = 3, figsize = (20, 20))\n",
    "index = 0\n",
    "\n",
    "axs = axs.flatten()\n",
    "\n",
    "# loop for moving on the colums returned in k and values returned in v then histogram them ,to fill the list Axs with histograms\n",
    "for k, v in train_features_logtransformm.items():\n",
    "    sns.histplot(v, ax = axs[index])\n",
    "    index += 1\n",
    "plt.tight_layout(pad = 0.4, w_pad = 0.5, h_pad = 5.0)"
   ]
  },
  {
   "cell_type": "code",
   "execution_count": 68,
   "id": "d0950e2c",
   "metadata": {
    "scrolled": true
   },
   "outputs": [
    {
     "data": {
      "text/html": [
       "<div>\n",
       "<style scoped>\n",
       "    .dataframe tbody tr th:only-of-type {\n",
       "        vertical-align: middle;\n",
       "    }\n",
       "\n",
       "    .dataframe tbody tr th {\n",
       "        vertical-align: top;\n",
       "    }\n",
       "\n",
       "    .dataframe thead th {\n",
       "        text-align: right;\n",
       "    }\n",
       "</style>\n",
       "<table border=\"1\" class=\"dataframe\">\n",
       "  <thead>\n",
       "    <tr style=\"text-align: right;\">\n",
       "      <th></th>\n",
       "      <th>0</th>\n",
       "      <th>1</th>\n",
       "      <th>2</th>\n",
       "      <th>3</th>\n",
       "      <th>4</th>\n",
       "      <th>5</th>\n",
       "      <th>6</th>\n",
       "      <th>7</th>\n",
       "      <th>8</th>\n",
       "    </tr>\n",
       "  </thead>\n",
       "  <tbody>\n",
       "    <tr>\n",
       "      <th>0</th>\n",
       "      <td>0.554232</td>\n",
       "      <td>0.293936</td>\n",
       "      <td>0.979701</td>\n",
       "      <td>0.411901</td>\n",
       "      <td>0.415348</td>\n",
       "      <td>0.907782</td>\n",
       "      <td>0.978705</td>\n",
       "      <td>0.415348</td>\n",
       "      <td>0.462583</td>\n",
       "    </tr>\n",
       "    <tr>\n",
       "      <th>1</th>\n",
       "      <td>0.265157</td>\n",
       "      <td>0.402198</td>\n",
       "      <td>0.699691</td>\n",
       "      <td>0.303642</td>\n",
       "      <td>0.308853</td>\n",
       "      <td>0.992409</td>\n",
       "      <td>0.955746</td>\n",
       "      <td>0.308853</td>\n",
       "      <td>0.275795</td>\n",
       "    </tr>\n",
       "    <tr>\n",
       "      <th>2</th>\n",
       "      <td>0.192098</td>\n",
       "      <td>0.210259</td>\n",
       "      <td>0.829071</td>\n",
       "      <td>0.171963</td>\n",
       "      <td>0.173825</td>\n",
       "      <td>0.919560</td>\n",
       "      <td>0.962636</td>\n",
       "      <td>0.173825</td>\n",
       "      <td>0.165006</td>\n",
       "    </tr>\n",
       "    <tr>\n",
       "      <th>3</th>\n",
       "      <td>0.272839</td>\n",
       "      <td>0.281470</td>\n",
       "      <td>0.844487</td>\n",
       "      <td>0.251405</td>\n",
       "      <td>0.254172</td>\n",
       "      <td>0.927838</td>\n",
       "      <td>0.990971</td>\n",
       "      <td>0.254172</td>\n",
       "      <td>0.252026</td>\n",
       "    </tr>\n",
       "    <tr>\n",
       "      <th>4</th>\n",
       "      <td>0.306208</td>\n",
       "      <td>0.320478</td>\n",
       "      <td>0.843119</td>\n",
       "      <td>0.287953</td>\n",
       "      <td>0.290775</td>\n",
       "      <td>0.920057</td>\n",
       "      <td>0.939555</td>\n",
       "      <td>0.290775</td>\n",
       "      <td>0.293255</td>\n",
       "    </tr>\n",
       "  </tbody>\n",
       "</table>\n",
       "</div>"
      ],
      "text/plain": [
       "          0         1         2         3         4         5         6  \\\n",
       "0  0.554232  0.293936  0.979701  0.411901  0.415348  0.907782  0.978705   \n",
       "1  0.265157  0.402198  0.699691  0.303642  0.308853  0.992409  0.955746   \n",
       "2  0.192098  0.210259  0.829071  0.171963  0.173825  0.919560  0.962636   \n",
       "3  0.272839  0.281470  0.844487  0.251405  0.254172  0.927838  0.990971   \n",
       "4  0.306208  0.320478  0.843119  0.287953  0.290775  0.920057  0.939555   \n",
       "\n",
       "          7         8  \n",
       "0  0.415348  0.462583  \n",
       "1  0.308853  0.275795  \n",
       "2  0.173825  0.165006  \n",
       "3  0.254172  0.252026  \n",
       "4  0.290775  0.293255  "
      ]
     },
     "execution_count": 68,
     "metadata": {},
     "output_type": "execute_result"
    }
   ],
   "source": [
    "train_features_logtransformm.head()"
   ]
  },
  {
   "cell_type": "code",
   "execution_count": 69,
   "id": "3a52ed4b",
   "metadata": {
    "scrolled": true
   },
   "outputs": [
    {
     "data": {
      "text/html": [
       "<div>\n",
       "<style scoped>\n",
       "    .dataframe tbody tr th:only-of-type {\n",
       "        vertical-align: middle;\n",
       "    }\n",
       "\n",
       "    .dataframe tbody tr th {\n",
       "        vertical-align: top;\n",
       "    }\n",
       "\n",
       "    .dataframe thead th {\n",
       "        text-align: right;\n",
       "    }\n",
       "</style>\n",
       "<table border=\"1\" class=\"dataframe\">\n",
       "  <thead>\n",
       "    <tr style=\"text-align: right;\">\n",
       "      <th></th>\n",
       "      <th>0</th>\n",
       "      <th>1</th>\n",
       "      <th>2</th>\n",
       "      <th>3</th>\n",
       "      <th>4</th>\n",
       "      <th>5</th>\n",
       "      <th>6</th>\n",
       "      <th>7</th>\n",
       "      <th>8</th>\n",
       "    </tr>\n",
       "  </thead>\n",
       "  <tbody>\n",
       "    <tr>\n",
       "      <th>0</th>\n",
       "      <td>0.897727</td>\n",
       "      <td>-0.342811</td>\n",
       "      <td>1.440028</td>\n",
       "      <td>0.172036</td>\n",
       "      <td>0.322783</td>\n",
       "      <td>0.068758</td>\n",
       "      <td>0.815760</td>\n",
       "      <td>0.174073</td>\n",
       "      <td>0.539713</td>\n",
       "    </tr>\n",
       "    <tr>\n",
       "      <th>1</th>\n",
       "      <td>-0.633401</td>\n",
       "      <td>0.256188</td>\n",
       "      <td>-1.729039</td>\n",
       "      <td>-0.301224</td>\n",
       "      <td>-0.253265</td>\n",
       "      <td>1.498190</td>\n",
       "      <td>0.531237</td>\n",
       "      <td>-0.290465</td>\n",
       "      <td>-0.454337</td>\n",
       "    </tr>\n",
       "    <tr>\n",
       "      <th>2</th>\n",
       "      <td>-0.932247</td>\n",
       "      <td>-0.753434</td>\n",
       "      <td>-0.420342</td>\n",
       "      <td>-0.726114</td>\n",
       "      <td>-0.880726</td>\n",
       "      <td>0.267127</td>\n",
       "      <td>0.616586</td>\n",
       "      <td>-0.725552</td>\n",
       "      <td>-0.937254</td>\n",
       "    </tr>\n",
       "    <tr>\n",
       "      <th>3</th>\n",
       "      <td>-0.600178</td>\n",
       "      <td>-0.406731</td>\n",
       "      <td>-0.247737</td>\n",
       "      <td>-0.486967</td>\n",
       "      <td>-0.520301</td>\n",
       "      <td>0.406669</td>\n",
       "      <td>0.967898</td>\n",
       "      <td>-0.484668</td>\n",
       "      <td>-0.564026</td>\n",
       "    </tr>\n",
       "    <tr>\n",
       "      <th>4</th>\n",
       "      <td>-0.451657</td>\n",
       "      <td>-0.203349</td>\n",
       "      <td>-0.263202</td>\n",
       "      <td>-0.359627</td>\n",
       "      <td>-0.343598</td>\n",
       "      <td>0.275515</td>\n",
       "      <td>0.330810</td>\n",
       "      <td>-0.357659</td>\n",
       "      <td>-0.371530</td>\n",
       "    </tr>\n",
       "  </tbody>\n",
       "</table>\n",
       "</div>"
      ],
      "text/plain": [
       "          0         1         2         3         4         5         6  \\\n",
       "0  0.897727 -0.342811  1.440028  0.172036  0.322783  0.068758  0.815760   \n",
       "1 -0.633401  0.256188 -1.729039 -0.301224 -0.253265  1.498190  0.531237   \n",
       "2 -0.932247 -0.753434 -0.420342 -0.726114 -0.880726  0.267127  0.616586   \n",
       "3 -0.600178 -0.406731 -0.247737 -0.486967 -0.520301  0.406669  0.967898   \n",
       "4 -0.451657 -0.203349 -0.263202 -0.359627 -0.343598  0.275515  0.330810   \n",
       "\n",
       "          7         8  \n",
       "0  0.174073  0.539713  \n",
       "1 -0.290465 -0.454337  \n",
       "2 -0.725552 -0.937254  \n",
       "3 -0.484668 -0.564026  \n",
       "4 -0.357659 -0.371530  "
      ]
     },
     "execution_count": 69,
     "metadata": {},
     "output_type": "execute_result"
    }
   ],
   "source": [
    "from sklearn.preprocessing import StandardScaler\n",
    "\n",
    "# define standard scaler\n",
    "scaler = StandardScaler()\n",
    "# transform data\n",
    "scaled = scaler.fit_transform(train_features[['MajorAxisLength', 'MinorAxisLength',\n",
    "                                  'Eccentricity', 'ConvexArea', 'EquivDiameter',\n",
    "                                  \"Solidity\",\"ShapeFactor4\", 'Area','Perimeter']])\n",
    "scaled=pd.DataFrame(scaled)\n",
    "scaled.head()"
   ]
  },
  {
   "cell_type": "code",
   "execution_count": 70,
   "id": "dae962b4",
   "metadata": {},
   "outputs": [
    {
     "data": {
      "image/png": "[encoded data removed]",
      "text/plain": [
       "<Figure size 1440x1440 with 9 Axes>"
      ]
     },
     "metadata": {
      "needs_background": "light"
     },
     "output_type": "display_data"
    }
   ],
   "source": [
    "fig, axs = plt.subplots(ncols = 3, nrows = 3, figsize = (20, 20))\n",
    "index = 0\n",
    "\n",
    "axs = axs.flatten()\n",
    "\n",
    "# loop for moving on the colums returned in k and values returned in v then histogram them ,to fill the list Axs with histograms\n",
    "for k, v in scaled.items():\n",
    "    sns.histplot(v, ax = axs[index])\n",
    "    index += 1\n",
    "plt.tight_layout(pad = 0.4, w_pad = 0.5, h_pad = 5.0)"
   ]
  },
  {
   "cell_type": "markdown",
   "id": "e0b98261",
   "metadata": {},
   "source": [
    "https://www.analyticsvidhya.com/blog/2020/04/feature-scaling-machine-learning-normalization-standardization/#h2_6"
   ]
  },
  {
   "cell_type": "code",
   "execution_count": 71,
   "id": "c714d1cf",
   "metadata": {},
   "outputs": [
    {
     "data": {
      "text/plain": [
       "7    2.970246\n",
       "3    2.960315\n",
       "1    2.251468\n",
       "4    1.971378\n",
       "8    1.650773\n",
       "0    1.390286\n",
       "2   -1.075626\n",
       "5   -2.507634\n",
       "6   -2.628540\n",
       "dtype: float64"
      ]
     },
     "execution_count": 71,
     "metadata": {},
     "output_type": "execute_result"
    }
   ],
   "source": [
    "scaled.skew().sort_values(ascending=False)"
   ]
  },
  {
   "cell_type": "markdown",
   "id": "8207486a",
   "metadata": {},
   "source": [
    "## step 3 Modeling"
   ]
  },
  {
   "cell_type": "code",
   "execution_count": 72,
   "id": "c96e1fe6",
   "metadata": {},
   "outputs": [],
   "source": [
    "import numpy as np\n",
    "import pandas as pd\n",
    "from sklearn.tree import DecisionTreeRegressor\n",
    "from sklearn.ensemble import GradientBoostingRegressor\n",
    "import utils\n",
    "import sklearn\n",
    "from sklearn import tree\n",
    "import matplotlib.pyplot as plt\n"
   ]
  },
  {
   "cell_type": "code",
   "execution_count": 73,
   "id": "fd0dfdf0",
   "metadata": {
    "scrolled": true
   },
   "outputs": [
    {
     "name": "stdout",
     "output_type": "stream",
     "text": [
      "Requirement already satisfied: xgboost in c:\\users\\nouran\\anaconda3\\lib\\site-packages (1.6.1)Note: you may need to restart the kernel to use updated packages.\n",
      "\n",
      "Requirement already satisfied: numpy in c:\\users\\nouran\\anaconda3\\lib\\site-packages (from xgboost) (1.21.5)\n",
      "Requirement already satisfied: scipy in c:\\users\\nouran\\anaconda3\\lib\\site-packages (from xgboost) (1.7.3)\n"
     ]
    }
   ],
   "source": [
    "pip install xgboost\n"
   ]
  },
  {
   "cell_type": "code",
   "execution_count": 74,
   "id": "fb9c7e97",
   "metadata": {},
   "outputs": [
    {
     "name": "stdout",
     "output_type": "stream",
     "text": [
      "<class 'pandas.core.frame.DataFrame'>\n",
      "RangeIndex: 10834 entries, 0 to 10833\n",
      "Data columns (total 16 columns):\n",
      " #   Column           Non-Null Count  Dtype  \n",
      "---  ------           --------------  -----  \n",
      " 0   Area             10834 non-null  int64  \n",
      " 1   Perimeter        10834 non-null  float64\n",
      " 2   MajorAxisLength  10834 non-null  float64\n",
      " 3   MinorAxisLength  10834 non-null  float64\n",
      " 4   AspectRation     10834 non-null  float64\n",
      " 5   Eccentricity     10834 non-null  float64\n",
      " 6   ConvexArea       10834 non-null  int64  \n",
      " 7   EquivDiameter    10834 non-null  float64\n",
      " 8   Extent           10834 non-null  float64\n",
      " 9   Solidity         10834 non-null  float64\n",
      " 10  roundness        10834 non-null  float64\n",
      " 11  Compactness      10834 non-null  float64\n",
      " 12  ShapeFactor1     10834 non-null  float64\n",
      " 13  ShapeFactor2     10834 non-null  float64\n",
      " 14  ShapeFactor3     10834 non-null  float64\n",
      " 15  ShapeFactor4     10834 non-null  float64\n",
      "dtypes: float64(14), int64(2)\n",
      "memory usage: 1.3 MB\n"
     ]
    }
   ],
   "source": [
    "train_features.info()"
   ]
  },
  {
   "cell_type": "code",
   "execution_count": 75,
   "id": "c315c167",
   "metadata": {},
   "outputs": [],
   "source": [
    "from sklearn.model_selection import train_test_split\n",
    "# remark: we fix random_state the end, to make sure we always get the same split\n",
    "X_train, X_test, y_train, y_test = train_test_split(\n",
    "    train_features, train_label, test_size=0.4, random_state=100)"
   ]
  },
  {
   "cell_type": "code",
   "execution_count": 76,
   "id": "df0d0901",
   "metadata": {},
   "outputs": [
    {
     "name": "stdout",
     "output_type": "stream",
     "text": [
      "0.9185509921550531\n"
     ]
    }
   ],
   "source": [
    "#Multiclass classification\n",
    "#https://www.kaggle.com/code/stuarthallows/using-xgboost-with-scikit-learn/notebook\n",
    "import xgboost as xgb\n",
    "\n",
    "xgb_model = xgb.XGBClassifier(objective=\"multi:softprob\", random_state=42)\n",
    "xgb_model.fit(X_train, y_train)\n",
    "\n",
    "print(xgb_model.score(X_test, y_test))\n",
    "\n",
    "#accuracy = accuracy_score( features_validation, labels_validation) \n",
    "\n",
    "#print(\"Accuracy: %.2f%%\" % (accuracy * 100.0))"
   ]
  },
  {
   "cell_type": "markdown",
   "id": "129fb5f2",
   "metadata": {},
   "source": [
    "XGBClassifier(base_score=0.5, booster='gbtree', colsample_bylevel=1,\n",
    "       colsample_bynode=1, colsample_bytree=1, gamma=0, learning_rate=0.1,\n",
    "       max_delta_step=0, max_depth=3, min_child_weight=1, missing=None,\n",
    "       n_estimators=100, n_jobs=1, nthread=None,\n",
    "       objective='multi:softprob', random_state=0, reg_alpha=0,\n",
    "       reg_lambda=1, scale_pos_weight=1, seed=None, silent=None,\n",
    "       subsample=1, verbosity=1) "
   ]
  },
  {
   "cell_type": "code",
   "execution_count": 77,
   "id": "a199d797",
   "metadata": {},
   "outputs": [
    {
     "name": "stdout",
     "output_type": "stream",
     "text": [
      "Recall: 0.9185509921550531\n",
      "Precision: 0.9185509921550531\n",
      "F1-scoresn: 0.9185509921550531\n"
     ]
    }
   ],
   "source": [
    "#https://stackoverflow.com/questions/52269187/facing-valueerror-target-is-multiclass-but-average-binary\n",
    "from sklearn.metrics import f1_score,recall_score,precision_score\n",
    "lr_predicted_labels = xgb_model.predict(X_test)\n",
    "print(\"Recall:\", recall_score(y_test, lr_predicted_labels\n",
    "                                           ,average='micro'))\n",
    "\n",
    "print(\"Precision:\", precision_score(y_test, lr_predicted_labels\n",
    "                                           ,average='micro'))\n",
    "\n",
    "print(\"F1-scoresn:\", f1_score(y_test, lr_predicted_labels\n",
    "                                           ,average='micro'))"
   ]
  },
  {
   "cell_type": "markdown",
   "id": "2a25c757",
   "metadata": {},
   "source": [
    "links\n",
    "https://towardsdatascience.com/xgboost-fine-tune-and-optimize-your-model-23d996fab663?gi=68a6ad896583\n",
    "https://www.kaggle.com/code/stuarthallows/using-xgboost-with-scikit-learn/notebook\n",
    "xgboost multiclass classification\n",
    "https://blog.cambridgespark.com/hyperparameter-tuning-in-xgboost-4ff9100a3b2f?gi=cb1496b50475\n",
    "https://www.datatechnotes.com/2019/07/classification-example-with.html"
   ]
  },
  {
   "cell_type": "code",
   "execution_count": 78,
   "id": "b879cebf",
   "metadata": {},
   "outputs": [
    {
     "name": "stdout",
     "output_type": "stream",
     "text": [
      "Fitting 5 folds for each of 8 candidates, totalling 40 fits\n",
      "Best parameters: {'learning_rate': 0.01, 'max_depth': 6, 'n_estimators': 500}\n",
      "Lowest RMSE:  0.6961416734505943\n"
     ]
    }
   ],
   "source": [
    "#https://us.hidester.com/proxy.php?u=eJwBaQCW%2F3M6OTc6Iu%2FGJTuSKEI6k40BZ6KFtLBqWcKgozeU76x4LXvSdfj95E%2BAXdiL%2FPW9JboTkB%2FUNCAv%2FgBDNFK5k0hl%2FRc9tYdfhS%2By0FNW%2BW67jT1NYHJPz1jIs7u8OiVtcghREGHumP4iO2NfMmI%3D&b=7\n",
    "import pandas as pd\n",
    "import xgboost as xgb\n",
    "from sklearn.model_selection import GridSearchCV\n",
    "\n",
    "params = { 'max_depth': [6,8],\n",
    "           'learning_rate': [0.01, 0.05],\n",
    "           'n_estimators': [100, 500]}\n",
    "xgbr = xgb.XGBRegressor(seed = 20)\n",
    "clf = GridSearchCV(estimator=xgbr, \n",
    "                   param_grid=params,\n",
    "                   scoring='neg_mean_squared_error', \n",
    "                   verbose=1)\n",
    "clf.fit(X_train, y_train)\n",
    "print(\"Best parameters:\", clf.best_params_)\n",
    "print(\"Lowest RMSE: \", (-clf.best_score_)**(1/2.0))"
   ]
  },
  {
   "cell_type": "code",
   "execution_count": 79,
   "id": "b4b605f9",
   "metadata": {},
   "outputs": [
    {
     "name": "stdout",
     "output_type": "stream",
     "text": [
      "0.9185509921550531\n"
     ]
    }
   ],
   "source": [
    "xgb_model = xgb.XGBClassifier(objective=\"multi:softprob\",learning_rate= 0.01, max_depth= 6, n_estimators= 500, random_state=42)\n",
    "xgb_model.fit(X_train, y_train)\n",
    "\n",
    "print(xgb_model.score(X_test, y_test))"
   ]
  },
  {
   "cell_type": "code",
   "execution_count": 81,
   "id": "3dcb5034",
   "metadata": {},
   "outputs": [],
   "source": [
    "test =pd.read_csv(r'test.csv')\n",
    "iD=test['ID']\n",
    "test=test.drop('ID',axis=1)"
   ]
  },
  {
   "cell_type": "code",
   "execution_count": 83,
   "id": "617105db",
   "metadata": {},
   "outputs": [],
   "source": [
    "y = xgb_model.predict(test)"
   ]
  },
  {
   "cell_type": "code",
   "execution_count": 84,
   "id": "66638f93",
   "metadata": {},
   "outputs": [
    {
     "data": {
      "text/plain": [
       "array([4, 3, 0, ..., 4, 3, 6], dtype=int64)"
      ]
     },
     "execution_count": 84,
     "metadata": {},
     "output_type": "execute_result"
    }
   ],
   "source": [
    "y"
   ]
  },
  {
   "cell_type": "code",
   "execution_count": 85,
   "id": "e251153e",
   "metadata": {},
   "outputs": [],
   "source": [
    "d={'id':iD, 'prdiction':y}\n",
    "prediction = pd.DataFrame(d)"
   ]
  },
  {
   "cell_type": "code",
   "execution_count": 86,
   "id": "af2c906a",
   "metadata": {},
   "outputs": [
    {
     "data": {
      "text/html": [
       "<div>\n",
       "<style scoped>\n",
       "    .dataframe tbody tr th:only-of-type {\n",
       "        vertical-align: middle;\n",
       "    }\n",
       "\n",
       "    .dataframe tbody tr th {\n",
       "        vertical-align: top;\n",
       "    }\n",
       "\n",
       "    .dataframe thead th {\n",
       "        text-align: right;\n",
       "    }\n",
       "</style>\n",
       "<table border=\"1\" class=\"dataframe\">\n",
       "  <thead>\n",
       "    <tr style=\"text-align: right;\">\n",
       "      <th></th>\n",
       "      <th>id</th>\n",
       "      <th>prdiction</th>\n",
       "    </tr>\n",
       "  </thead>\n",
       "  <tbody>\n",
       "    <tr>\n",
       "      <th>0</th>\n",
       "      <td>10834</td>\n",
       "      <td>4</td>\n",
       "    </tr>\n",
       "    <tr>\n",
       "      <th>1</th>\n",
       "      <td>10835</td>\n",
       "      <td>3</td>\n",
       "    </tr>\n",
       "    <tr>\n",
       "      <th>2</th>\n",
       "      <td>10836</td>\n",
       "      <td>0</td>\n",
       "    </tr>\n",
       "    <tr>\n",
       "      <th>3</th>\n",
       "      <td>10837</td>\n",
       "      <td>3</td>\n",
       "    </tr>\n",
       "    <tr>\n",
       "      <th>4</th>\n",
       "      <td>10838</td>\n",
       "      <td>1</td>\n",
       "    </tr>\n",
       "  </tbody>\n",
       "</table>\n",
       "</div>"
      ],
      "text/plain": [
       "      id  prdiction\n",
       "0  10834          4\n",
       "1  10835          3\n",
       "2  10836          0\n",
       "3  10837          3\n",
       "4  10838          1"
      ]
     },
     "execution_count": 86,
     "metadata": {},
     "output_type": "execute_result"
    }
   ],
   "source": [
    "prediction.head()"
   ]
  },
  {
   "cell_type": "code",
   "execution_count": 95,
   "id": "71f0117a",
   "metadata": {},
   "outputs": [
    {
     "data": {
      "text/plain": [
       "0          HOROZ\n",
       "1       DERMASON\n",
       "2       BARBUNYA\n",
       "3       DERMASON\n",
       "4         BOMBAY\n",
       "          ...   \n",
       "2704        CALI\n",
       "2705       SEKER\n",
       "2706       HOROZ\n",
       "2707    DERMASON\n",
       "2708        SIRA\n",
       "Name: prdiction, Length: 2709, dtype: object"
      ]
     },
     "execution_count": 95,
     "metadata": {},
     "output_type": "execute_result"
    }
   ],
   "source": [
    "prediction['prdiction'].replace({0:'BARBUNYA', 1: 'BOMBAY', 2:'CALI', 3: 'DERMASON', 4:'HOROZ', 5: 'SEKER', 6:'SIRA'})"
   ]
  },
  {
   "cell_type": "code",
   "execution_count": 91,
   "id": "568462c4",
   "metadata": {},
   "outputs": [],
   "source": [
    "prediction.to_csv('submission.csv', index = False, encoding='utf-8')"
   ]
  },
  {
   "cell_type": "code",
   "execution_count": 90,
   "id": "e50cc698",
   "metadata": {},
   "outputs": [],
   "source": []
  }
 ],
 "metadata": {
  "kernelspec": {
   "display_name": "Python 3 (ipykernel)",
   "language": "python",
   "name": "python3"
  },
  "language_info": {
   "codemirror_mode": {
    "name": "ipython",
    "version": 3
   },
   "file_extension": ".py",
   "mimetype": "text/x-python",
   "name": "python",
   "nbconvert_exporter": "python",
   "pygments_lexer": "ipython3",
   "version": "3.9.12"
  }
 },
 "nbformat": 4,
 "nbformat_minor": 5
}
